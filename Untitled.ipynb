{
 "cells": [
  {
   "cell_type": "code",
   "execution_count": 19,
   "metadata": {},
   "outputs": [],
   "source": [
    "import psycopg2\n",
    "import osgeo.ogr\n",
    "import shapely\n",
    "import shapely.wkt\n",
    "import geopandas as gpd\n",
    "%matplotlib inline"
   ]
  },
  {
   "cell_type": "code",
   "execution_count": 9,
   "metadata": {},
   "outputs": [],
   "source": [
    "connection = psycopg2.connect(database=\"HeritageSites\",user=\"postgres\", password=\"admin\", port=5433)\n",
    "cursor = connection.cursor()"
   ]
  },
  {
   "cell_type": "code",
   "execution_count": 16,
   "metadata": {},
   "outputs": [
    {
     "name": "stdout",
     "output_type": "stream",
     "text": [
      "<connection object at 0x00000191B80D0150; dsn: 'user=postgres password=xxx dbname=HeritageSites port=5433', closed: 0>\n"
     ]
    }
   ],
   "source": [
    "print(connection)"
   ]
  },
  {
   "cell_type": "code",
   "execution_count": 21,
   "metadata": {},
   "outputs": [],
   "source": [
    "development_site = gpd.read_file(r'C:\\Users\\xazzje\\Desktop\\docAserv\\data\\study area buffer site.geojson').set_index('id')['geometry']"
   ]
  },
  {
   "cell_type": "code",
   "execution_count": 23,
   "metadata": {},
   "outputs": [
    {
     "data": {
      "text/plain": [
       "id\n",
       "1    POLYGON ((1608426.34709375 4284831.3021875, 16...\n",
       "Name: geometry, dtype: object"
      ]
     },
     "execution_count": 23,
     "metadata": {},
     "output_type": "execute_result"
    }
   ],
   "source": [
    "development_site.head()\n"
   ]
  },
  {
   "cell_type": "code",
   "execution_count": 25,
   "metadata": {},
   "outputs": [],
   "source": [
    "dev_site_wkt=shapely.wkt.dumps(development_site[1])"
   ]
  },
  {
   "cell_type": "code",
   "execution_count": 28,
   "metadata": {},
   "outputs": [
    {
     "name": "stdout",
     "output_type": "stream",
     "text": [
      "POLYGON ((1608426.3470937502570450 4284831.3021874995902181, 1608057.5058645834214985 4284629.0344166662544012, 1607950.4229270834475756 4284807.5059791663661599, 1608033.7096562501974404 4284866.9964999994263053, 1608069.4039687500335276 4284831.3021874995902181, 1608069.4039687500335276 4284759.9135624989867210, 1608152.6906979167833924 4284783.7097708331421018, 1608224.0793229169212282 4284878.8946041660383344, 1608366.8565729167312384 4284962.1813333323225379, 1608533.4300312502309680 4284962.1813333323225379, 1608533.4300312502309680 4284819.4040833329781890, 1608497.7357187501620501 4284724.2192499991506338, 1608438.2451979168690741 4284664.7287291660904884, 1608354.9584687501192093 4284652.8306249994784594, 1608354.9584687501192093 4284736.1173541657626629, 1608402.5508854168001562 4284759.9135624989867210, 1608438.2451979168690741 4284771.8116666655987501, 1608426.3470937502570450 4284831.3021874995902181))\n"
     ]
    }
   ],
   "source": [
    "print(dev_site_wkt)"
   ]
  },
  {
   "cell_type": "code",
   "execution_count": 43,
   "metadata": {},
   "outputs": [
    {
     "name": "stdout",
     "output_type": "stream",
     "text": [
      "<cursor object at 0x00000191B21D9128; closed: 0>\n"
     ]
    }
   ],
   "source": [
    "print(cursor)"
   ]
  },
  {
   "cell_type": "code",
   "execution_count": 44,
   "metadata": {},
   "outputs": [
    {
     "name": "stdout",
     "output_type": "stream",
     "text": [
      "<connection object at 0x00000191B80D0150; dsn: 'user=postgres password=xxx dbname=HeritageSites port=5433', closed: 0>\n"
     ]
    }
   ],
   "source": [
    "print(connection)\n"
   ]
  },
  {
   "cell_type": "code",
   "execution_count": 47,
   "metadata": {},
   "outputs": [
    {
     "ename": "InternalError",
     "evalue": "FEL:  aktuella transaktionen har avbrutits, alla kommandon ignoreras tills slutet på transaktionen\n",
     "output_type": "error",
     "traceback": [
      "\u001b[1;31m---------------------------------------------------------------------------\u001b[0m",
      "\u001b[1;31mInternalError\u001b[0m                             Traceback (most recent call last)",
      "\u001b[1;32m<ipython-input-47-20f1ebb9662b>\u001b[0m in \u001b[0;36m<module>\u001b[1;34m()\u001b[0m\n\u001b[1;32m----> 1\u001b[1;33m \u001b[0mcursor\u001b[0m\u001b[1;33m.\u001b[0m\u001b[0mexecute\u001b[0m\u001b[1;33m(\u001b[0m\u001b[1;34m\"CREATE TABLE test (id serial PRIMARY KEY, num integer, data varchar);\"\u001b[0m\u001b[1;33m)\u001b[0m\u001b[1;33m\u001b[0m\u001b[0m\n\u001b[0m",
      "\u001b[1;31mInternalError\u001b[0m: FEL:  aktuella transaktionen har avbrutits, alla kommandon ignoreras tills slutet på transaktionen\n"
     ]
    }
   ],
   "source": [
    "cursor.execute(\"SELECT * FROM public.cultural_map_20_nov_2014_2\")  WHERE ST_DWithin(cultural_map_20_nov_2014_.geom, ST_GeomFromText('{}'),3000)\".format(dev_site_wkt))\n"
   ]
  },
  {
   "cell_type": "code",
   "execution_count": null,
   "metadata": {},
   "outputs": [],
   "source": []
  }
 ],
 "metadata": {
  "kernelspec": {
   "display_name": "Python 3",
   "language": "python",
   "name": "python3"
  },
  "language_info": {
   "codemirror_mode": {
    "name": "ipython",
    "version": 3
   },
   "file_extension": ".py",
   "mimetype": "text/x-python",
   "name": "python",
   "nbconvert_exporter": "python",
   "pygments_lexer": "ipython3",
   "version": "3.6.4"
  }
 },
 "nbformat": 4,
 "nbformat_minor": 2
}
